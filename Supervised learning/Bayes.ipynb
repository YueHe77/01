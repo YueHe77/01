{
 "cells": [
  {
   "cell_type": "code",
   "execution_count": 28,
   "id": "2184cfe0",
   "metadata": {},
   "outputs": [],
   "source": [
    "from argparse import Namespace\n",
    "import numpy as np\n",
    "import pandas as pd\n",
    "import matplotlib.pyplot as plt\n",
    "from sklearn import datasets \n",
    "from sklearn.naive_bayes import GaussianNB\n",
    "from sklearn.preprocessing import StandardScaler\n",
    "from sklearn.model_selection import train_test_split\n",
    "from sklearn.metrics import accuracy_score, confusion_matrix"
   ]
  },
  {
   "cell_type": "code",
   "execution_count": 29,
   "id": "eff19b9e",
   "metadata": {},
   "outputs": [
    {
     "name": "stdout",
     "output_type": "stream",
     "text": [
      "train acc: 0.96, test acc: 0.95\n"
     ]
    },
    {
     "data": {
      "text/plain": [
       "array([[13,  0,  0],\n",
       "       [ 0, 14,  1],\n",
       "       [ 0,  1,  9]])"
      ]
     },
     "execution_count": 29,
     "metadata": {},
     "output_type": "execute_result"
    }
   ],
   "source": [
    "args = Namespace(\n",
    "    seed=1234,\n",
    "    train_size=0.75,\n",
    "    test_size=0.25\n",
    ")\n",
    "\n",
    "dataset = datasets.load_iris(as_frame=True)\n",
    "X_train, X_test, y_train, y_test = train_test_split(\n",
    "    dataset.data, dataset.target, train_size=args.train_size, test_size=args.test_size, random_state=args.seed)\n",
    "X_scaler = StandardScaler().fit(X_train) # standardize the train and test sets\n",
    "#y_scaler = StandardScaler().fit(y_train.values.reshape(-1,1)) \n",
    "standardized_X_train = X_scaler.transform(X_train)\n",
    "#standardized_y_train = y_scaler.transform(y_train.values.reshape(-1,1)).ravel()\n",
    "standardized_X_test = X_scaler.transform(X_test)\n",
    "#standardized_y_test = y_scaler.transform(y_test.values.reshape(-1,1)).ravel()\n",
    "bayes = GaussianNB() # assume that X is Gaussian distributed\n",
    "bayes.fit(standardized_X_train, y_train)  \n",
    "pred_train = bayes.predict(standardized_X_train) \n",
    "pred_test = bayes.predict(standardized_X_test)\n",
    "print (\"train acc: {0:.2f}, test acc: {1:.2f}\".format(bayes.score(standardized_X_train, y_train), bayes.score(standardized_X_test, y_test)))\n",
    "cm = confusion_matrix(y_test, pred_test)\n",
    "cm"
   ]
  }
 ],
 "metadata": {
  "kernelspec": {
   "display_name": "Python 3 (ipykernel)",
   "language": "python",
   "name": "python3"
  },
  "language_info": {
   "codemirror_mode": {
    "name": "ipython",
    "version": 3
   },
   "file_extension": ".py",
   "mimetype": "text/x-python",
   "name": "python",
   "nbconvert_exporter": "python",
   "pygments_lexer": "ipython3",
   "version": "3.9.12"
  }
 },
 "nbformat": 4,
 "nbformat_minor": 5
}
